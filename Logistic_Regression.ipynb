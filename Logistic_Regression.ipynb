{
  "nbformat": 4,
  "nbformat_minor": 0,
  "metadata": {
    "colab": {
      "provenance": []
    },
    "kernelspec": {
      "name": "python3",
      "display_name": "Python 3"
    },
    "language_info": {
      "name": "python"
    }
  },
  "cells": [
    {
      "cell_type": "markdown",
      "source": [
        "#Theory Questions"
      ],
      "metadata": {
        "id": "mX8V5mLsgGHQ"
      }
    },
    {
      "cell_type": "markdown",
      "source": [
        "**Q1. What is Logistic Regression, and how does it differ from Linear Regression?**\n",
        "\n",
        "--> Logistic Regression is a supervised learning algorithm used for classification tasks. Unlike Linear Regression, which predicts continuous values, Logistic Regression predicts categorical outcomes by estimating the probability of an instance belonging to a particular class. It does this using the sigmoid function, which maps predicted values to a range between 0 and 1. While Linear Regression finds the best-fit line through the data, Logistic Regression finds the best decision boundary that separates classes.\n",
        "\n",
        "**Q2. What is the mathematical equation of Logistic Regression?**\n",
        "\n",
        "--> The mathematical equation of Logistic Regression is:\n",
        "\n",
        "![image.png](data:image/png;base64,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)\n",
        "\n",
        "Here,\n",
        "𝑃\n",
        "(\n",
        "𝑌\n",
        "=\n",
        "1\n",
        "∣\n",
        "𝑋\n",
        ")\n",
        "is the probability that the dependent variable\n",
        "𝑌\n",
        "belongs to class 1 given input\n",
        "𝑋\n",
        ", and\n",
        "𝛽\n",
        "0\n",
        ",\n",
        "𝛽\n",
        "1\n",
        ",\n",
        "𝛽\n",
        "2\n",
        ",\n",
        ".\n",
        ".\n",
        ".\n",
        ",\n",
        "𝛽\n",
        "𝑛\n",
        "are the regression coefficients. This function ensures output values lie between 0 and 1.\n",
        "\n",
        "**Q3. Why do we use the Sigmoid function in Logistic Regression?**\n",
        "\n",
        "--> The Sigmoid function is used in Logistic Regression because it converts any real-valued number into a probability between 0 and 1. This makes it ideal for binary classification tasks where we need to determine whether an observation belongs to class 0 or class 1. The sigmoid function ensures that the model outputs probabilities that can be thresholded for classification.\n",
        "\n",
        "**Q4. What is the cost function of Logistic Regression?**\n",
        "\n",
        "--> The cost function in Logistic Regression is the Log-Loss (Cross-Entropy Loss), given by:\n",
        "\n",
        "![image.png](data:image/png;base64,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)\n",
        "\n",
        "where\n",
        "𝑦\n",
        "𝑖\n",
        "is the actual class,\n",
        "ℎ\n",
        "𝜃\n",
        "(\n",
        "𝑥\n",
        "𝑖\n",
        ")\n",
        "h\n",
        "is the predicted probability, and\n",
        "𝑚\n",
        "is the number of training examples. This loss function penalizes incorrect predictions more heavily as they move further from the true label.\n",
        "\n",
        "**Q5. What is Regularization in Logistic Regression? Why is it needed?**\n",
        "\n",
        "--> Regularization in Logistic Regression is a technique used to prevent overfitting by adding a penalty term to the cost function. This discourages overly complex models with large coefficients. The two main types of regularization are L1 (Lasso) and L2 (Ridge). Regularization is necessary when dealing with high-dimensional data to ensure better generalization to unseen data.\n",
        "\n",
        "**Q6. Explain the difference between Lasso, Ridge, and Elastic Net regression.**\n",
        "\n",
        "--> Lasso Regression (L1 Regularization): Shrinks some coefficients to zero, effectively performing feature selection.\n",
        "\n",
        "Ridge Regression (L2 Regularization): Reduces the magnitude of coefficients but does not set them to zero, helping prevent overfitting while keeping all features.\n",
        "\n",
        "Elastic Net Regression: Combines both L1 and L2 penalties, balancing feature selection and coefficient shrinkage.\n",
        "\n",
        "**Q7. When should we use Elastic Net instead of Lasso or Ridge?**\n",
        "\n",
        "--> Elastic Net should be used when there is multicollinearity (high correlation between features), as it benefits from both Ridge’s ability to handle correlated predictors and Lasso’s feature selection capabilities. It is useful when Lasso alone might remove too many features.\n",
        "\n",
        "**Q8. What is the impact of the regularization parameter (λ) in Logistic Regression?**\n",
        "\n",
        "--> The regularization parameter\n",
        "𝜆\n",
        "controls the penalty applied to the model coefficients.\n",
        "\n",
        "If λ is too large, the model is overly constrained, leading to underfitting.\n",
        "\n",
        "If λ is too small, the penalty is minimal, leading to overfitting.\n",
        "The optimal\n",
        "𝜆\n",
        "value is usually found using cross-validation.\n",
        "\n",
        "**Q9. What are the key assumptions of Logistic Regression?**\n",
        "\n",
        "--> Linearity of independent variables with log-odds: Features should be linearly related to the log-odds of the dependent variable.\n",
        "\n",
        "No multicollinearity: Highly correlated features can distort coefficient estimates.\n",
        "\n",
        "Independent observations: Observations should not be dependent on each other (e.g., time-series data might not work well without modifications).\n",
        "\n",
        "Sufficient sample size: Small datasets can lead to unstable coefficient estimates.\n",
        "\n",
        "**Q10. What are some alternatives to Logistic Regression for classification tasks?**\n",
        "\n",
        "--> Decision Trees\n",
        "\n",
        "Random Forests\n",
        "\n",
        "Support Vector Machines (SVMs)\n",
        "\n",
        "Naïve Bayes Classifier\n",
        "\n",
        "Neural Networks\n",
        "\n",
        "Gradient Boosting Models (XGBoost, LightGBM, etc.)\n",
        "\n",
        "**Q11. What are Classification Evaluation Metrics?**\n",
        "\n",
        "--> Common metrics for evaluating classification models include:\n",
        "\n",
        "Accuracy (overall correctness)\n",
        "\n",
        "Precision (true positives over predicted positives)\n",
        "\n",
        "Recall (true positives over actual positives)\n",
        "\n",
        "F1-Score (harmonic mean of precision and recall)\n",
        "\n",
        "ROC-AUC Score (measures model’s ability to distinguish classes)\n",
        "\n",
        "**Q12. How does class imbalance affect Logistic Regression?**\n",
        "\n",
        "--> Class imbalance skews model predictions toward the majority class, leading to misleading accuracy. Solutions include:\n",
        "\n",
        "Using class weights\n",
        "\n",
        "Oversampling the minority class (SMOTE)\n",
        "\n",
        "Undersampling the majority class\n",
        "\n",
        "**Q13. What is Hyperparameter Tuning in Logistic Regression?**\n",
        "\n",
        "--> Hyperparameter tuning optimizes model parameters like:\n",
        "\n",
        "Regularization strength (C or λ)\n",
        "\n",
        "Type of penalty (L1, L2, or Elastic Net)\n",
        "\n",
        "Solver (liblinear, saga, lbfgs, etc.)\n",
        "\n",
        "This is done using GridSearchCV or RandomizedSearchCV.\n",
        "\n",
        "**Q14. What are different solvers in Logistic Regression? Which one should be used?**\n",
        "\n",
        "--> Solvers optimize the cost function. Some common solvers include:\n",
        "\n",
        "liblinear (best for small datasets, L1 regularization)\n",
        "\n",
        "lbfgs (good for multiclass problems, L2 regularization)\n",
        "\n",
        "saga (best for large datasets, supports all regularization types)\n",
        "\n",
        "newton-cg (better for L2 regularization)\n",
        "\n",
        "Choice depends on dataset size and regularization type.\n",
        "\n",
        "**Q15. How is Logistic Regression extended for multiclass classification?**\n",
        "\n",
        "--> ogistic Regression is extended using:\n",
        "\n",
        "One-vs-Rest (OvR): Trains multiple binary classifiers, one per class.\n",
        "\n",
        "Softmax Regression (Multinomial): Directly models probabilities for multiple classes using a single model.\n",
        "\n",
        "**Q16. What are the advantages and disadvantages of Logistic Regression?**\n",
        "\n",
        "--> Advantages:\n",
        "\n",
        "Simple and interpretable\n",
        "\n",
        "Works well with small datasets\n",
        "\n",
        "Computationally efficient\n",
        "\n",
        "Disadvantages:\n",
        "\n",
        "Assumes a linear relationship with log-odds\n",
        "\n",
        "Struggles with highly non-linear data\n",
        "\n",
        "Sensitive to imbalanced datasets\n",
        "\n",
        "**Q17. What are some use cases of Logistic Regression?**\n",
        "\n",
        "--> Medical diagnosis (disease prediction)\n",
        "\n",
        "Spam detection\n",
        "\n",
        "Credit risk analysis\n",
        "\n",
        "Marketing campaign effectiveness prediction\n",
        "\n",
        "**Q18. What is the difference between Softmax Regression and Logistic Regression?**\n",
        "\n",
        "--> Logistic Regression: Used for binary classification.\n",
        "\n",
        "Softmax Regression: Used for multiclass classification, assigning probabilities across multiple categories.\n",
        "\n",
        "**Q19. How do we choose between One-vs-Rest (OvR) and Softmax for multiclass classification?**\n",
        "\n",
        "--> OvR: Better for small datasets, computationally less expensive.\n",
        "\n",
        "Softmax: Better for balanced datasets with multiple classes.\n",
        "\n",
        "**Q20. How do we interpret coefficients in Logistic Regression?**\n",
        "\n",
        "--> Logistic Regression coefficients represent the change in log-odds for a one-unit increase in the predictor. Higher absolute values indicate stronger influence. To interpret them in probability terms, we exponentiate the coefficient (\n",
        "𝑒\n",
        "𝛽\n",
        ").\n"
      ],
      "metadata": {
        "id": "TvT2bxVcgOky"
      }
    },
    {
      "cell_type": "markdown",
      "source": [
        "#Practical Questions"
      ],
      "metadata": {
        "id": "XxR4NyjRkIeA"
      }
    },
    {
      "cell_type": "code",
      "execution_count": 24,
      "metadata": {
        "colab": {
          "base_uri": "https://localhost:8080/"
        },
        "id": "EH8-sF5dgCVo",
        "outputId": "6f3c856a-dcef-4ed3-c868-d20947baa9e2"
      },
      "outputs": [
        {
          "output_type": "stream",
          "name": "stdout",
          "text": [
            "Logistic Regression Model Accuracy: 0.9649122807017544\n"
          ]
        },
        {
          "output_type": "stream",
          "name": "stderr",
          "text": [
            "/usr/local/lib/python3.11/dist-packages/sklearn/linear_model/_logistic.py:465: ConvergenceWarning: lbfgs failed to converge (status=1):\n",
            "STOP: TOTAL NO. of ITERATIONS REACHED LIMIT.\n",
            "\n",
            "Increase the number of iterations (max_iter) or scale the data as shown in:\n",
            "    https://scikit-learn.org/stable/modules/preprocessing.html\n",
            "Please also refer to the documentation for alternative solver options:\n",
            "    https://scikit-learn.org/stable/modules/linear_model.html#logistic-regression\n",
            "  n_iter_i = _check_optimize_result(\n"
          ]
        }
      ],
      "source": [
        "#1. Load Dataset, Train Logistic Regression, and Print Accuracy\n",
        "\n",
        "from sklearn.datasets import load_breast_cancer\n",
        "import pandas as pd\n",
        "from sklearn.model_selection import train_test_split\n",
        "from sklearn.linear_model import LogisticRegression\n",
        "from sklearn.metrics import accuracy_score\n",
        "\n",
        "# Load the Breast Cancer dataset\n",
        "data = load_breast_cancer()\n",
        "df = pd.DataFrame(data.data, columns=data.feature_names)\n",
        "df['target'] = data.target  # Adding target column\n",
        "\n",
        "# Split into features and target\n",
        "X = df.drop(columns=['target'])  # Features\n",
        "y = df['target']  # Target\n",
        "\n",
        "# Split into training and testing sets (80% train, 20% test)\n",
        "X_train, X_test, y_train, y_test = train_test_split(X, y, test_size=0.2, random_state=42)\n",
        "\n",
        "# Train Logistic Regression model\n",
        "model = LogisticRegression()\n",
        "model.fit(X_train, y_train)\n",
        "\n",
        "# Make predictions\n",
        "y_pred = model.predict(X_test)\n",
        "\n",
        "# Print model accuracy\n",
        "print(\"Logistic Regression Model Accuracy:\", accuracy_score(y_test, y_pred))"
      ]
    },
    {
      "cell_type": "code",
      "source": [
        "#2. L1 Regularization with Logistic Regression\n",
        "\n",
        "import pandas as pd\n",
        "from sklearn.model_selection import train_test_split\n",
        "from sklearn.linear_model import LogisticRegression\n",
        "from sklearn.metrics import accuracy_score\n",
        "\n",
        "# Split into features and target\n",
        "X = df.drop(columns=['target'])  # Features\n",
        "y = df['target']  # Target\n",
        "\n",
        "# Split into training and testing sets (80% train, 20% test)\n",
        "X_train, X_test, y_train, y_test = train_test_split(X, y, test_size=0.2, random_state=42)\n",
        "\n",
        "# Train Logistic Regression with L1 regularization (Lasso)\n",
        "model = LogisticRegression(penalty='l1', solver='liblinear')  # L1 penalty\n",
        "model.fit(X_train, y_train)\n",
        "\n",
        "# Make predictions\n",
        "y_pred = model.predict(X_test)\n",
        "\n",
        "# Print model accuracy\n",
        "print(\"L1 Regularized Model Accuracy:\", accuracy_score(y_test, y_pred))\n",
        "\n",
        "# Print model coefficients\n",
        "print(\"L1 Regularized Model Coefficients:\", model.coef_)"
      ],
      "metadata": {
        "colab": {
          "base_uri": "https://localhost:8080/"
        },
        "id": "42znMea6kpvA",
        "outputId": "6d3370b3-7662-4966-eba1-79e5147c2bbc"
      },
      "execution_count": 25,
      "outputs": [
        {
          "output_type": "stream",
          "name": "stdout",
          "text": [
            "L1 Regularized Model Accuracy: 0.956140350877193\n",
            "L1 Regularized Model Coefficients: [[ 4.44659709  0.14014552 -0.28613662 -0.01680897  0.          0.\n",
            "   0.          0.          0.          0.          0.          1.71377815\n",
            "   0.         -0.09952883  0.          0.          0.          0.\n",
            "   0.          0.          0.         -0.42775251 -0.02654032 -0.01484749\n",
            "   0.          0.         -3.55734534  0.          0.          0.        ]]\n"
          ]
        }
      ]
    },
    {
      "cell_type": "code",
      "source": [
        "#3. Train Logistic Regression with L2 Regularization (Ridge)\n",
        "\n",
        "# Train Logistic Regression with L2 regularization (Ridge)\n",
        "model = LogisticRegression(penalty='l2', solver='liblinear')\n",
        "model.fit(X_train, y_train)\n",
        "\n",
        "# Predictions and Accuracy\n",
        "y_pred = model.predict(X_test)\n",
        "print(\"L2 Regularized Model Accuracy:\", accuracy_score(y_test, y_pred))"
      ],
      "metadata": {
        "colab": {
          "base_uri": "https://localhost:8080/"
        },
        "id": "P839iDrvm8cb",
        "outputId": "13821438-b995-4101-85d5-10d9b3093a2d"
      },
      "execution_count": 26,
      "outputs": [
        {
          "output_type": "stream",
          "name": "stdout",
          "text": [
            "L2 Regularized Model Accuracy: 0.956140350877193\n"
          ]
        }
      ]
    },
    {
      "cell_type": "code",
      "source": [
        "#4. Train Logistic Regression with Elastic Net Regularization\n",
        "\n",
        "model = LogisticRegression(penalty='elasticnet', solver='saga', l1_ratio=0.5)\n",
        "model.fit(X_train, y_train)\n",
        "\n",
        "# Predictions and Accuracy\n",
        "y_pred = model.predict(X_test)\n",
        "print(\"Elastic Net Model Accuracy:\", accuracy_score(y_test, y_pred))"
      ],
      "metadata": {
        "colab": {
          "base_uri": "https://localhost:8080/"
        },
        "id": "dDa_IOjvnZnR",
        "outputId": "7f256081-cc59-4337-a186-951443c7d8c6"
      },
      "execution_count": 27,
      "outputs": [
        {
          "output_type": "stream",
          "name": "stdout",
          "text": [
            "Elastic Net Model Accuracy: 0.9473684210526315\n"
          ]
        },
        {
          "output_type": "stream",
          "name": "stderr",
          "text": [
            "/usr/local/lib/python3.11/dist-packages/sklearn/linear_model/_sag.py:348: ConvergenceWarning: The max_iter was reached which means the coef_ did not converge\n",
            "  warnings.warn(\n"
          ]
        }
      ]
    },
    {
      "cell_type": "code",
      "source": [
        "#5. Train Logistic Regression for Multiclass Classification using One-vs-Rest (OvR)\n",
        "\n",
        "model = LogisticRegression(multi_class='ovr')\n",
        "model.fit(X_train, y_train)\n",
        "print(\"OvR Model Accuracy:\", accuracy_score(y_test, model.predict(X_test)))"
      ],
      "metadata": {
        "colab": {
          "base_uri": "https://localhost:8080/"
        },
        "id": "XWNW-wi0nd9q",
        "outputId": "c85365e3-687d-47ef-f169-cf2b0e333b04"
      },
      "execution_count": 28,
      "outputs": [
        {
          "output_type": "stream",
          "name": "stdout",
          "text": [
            "OvR Model Accuracy: 0.9649122807017544\n"
          ]
        },
        {
          "output_type": "stream",
          "name": "stderr",
          "text": [
            "/usr/local/lib/python3.11/dist-packages/sklearn/linear_model/_logistic.py:1256: FutureWarning: 'multi_class' was deprecated in version 1.5 and will be removed in 1.7. Use OneVsRestClassifier(LogisticRegression(..)) instead. Leave it to its default value to avoid this warning.\n",
            "  warnings.warn(\n",
            "/usr/local/lib/python3.11/dist-packages/sklearn/linear_model/_logistic.py:465: ConvergenceWarning: lbfgs failed to converge (status=1):\n",
            "STOP: TOTAL NO. of ITERATIONS REACHED LIMIT.\n",
            "\n",
            "Increase the number of iterations (max_iter) or scale the data as shown in:\n",
            "    https://scikit-learn.org/stable/modules/preprocessing.html\n",
            "Please also refer to the documentation for alternative solver options:\n",
            "    https://scikit-learn.org/stable/modules/linear_model.html#logistic-regression\n",
            "  n_iter_i = _check_optimize_result(\n"
          ]
        }
      ]
    },
    {
      "cell_type": "code",
      "source": [
        "#6. Apply GridSearchCV to Tune Hyperparameters\n",
        "\n",
        "from sklearn.model_selection import GridSearchCV\n",
        "\n",
        "param_grid = {'C': [0.1, 1, 10], 'penalty': ['l1', 'l2']}\n",
        "\n",
        "# Use GridSearchCV with higher max_iter to avoid warnings\n",
        "grid = GridSearchCV(LogisticRegression(solver='liblinear', max_iter=5000), param_grid, cv=5)\n",
        "grid.fit(X_train, y_train)\n",
        "\n",
        "# Print best parameters and best accuracy\n",
        "print(\"Best Parameters:\", grid.best_params_)\n",
        "print(\"Best Accuracy:\", grid.best_score_)"
      ],
      "metadata": {
        "colab": {
          "base_uri": "https://localhost:8080/"
        },
        "id": "Da0Zi9xwnq0G",
        "outputId": "9bf49d31-d663-4c3e-9286-c2703a31192d"
      },
      "execution_count": 29,
      "outputs": [
        {
          "output_type": "stream",
          "name": "stdout",
          "text": [
            "Best Parameters: {'C': 10, 'penalty': 'l2'}\n",
            "Best Accuracy: 0.9626373626373628\n"
          ]
        }
      ]
    },
    {
      "cell_type": "code",
      "source": [
        "#7. Evaluate Logistic Regression using Stratified K-Fold Cross-Validation\n",
        "\n",
        "from sklearn.model_selection import StratifiedKFold, cross_val_score\n",
        "from sklearn.preprocessing import StandardScaler\n",
        "from sklearn.linear_model import LogisticRegression\n",
        "\n",
        "# Scale the data\n",
        "scaler = StandardScaler()\n",
        "X_scaled = scaler.fit_transform(X)\n",
        "\n",
        "# Apply Stratified K-Fold Cross-Validation with a higher max_iter\n",
        "cv = StratifiedKFold(n_splits=5)\n",
        "model = LogisticRegression(max_iter=5000)  # Increased max_iter\n",
        "\n",
        "scores = cross_val_score(model, X_scaled, y, cv=cv)\n",
        "print(\"Average Accuracy:\", scores.mean())"
      ],
      "metadata": {
        "colab": {
          "base_uri": "https://localhost:8080/"
        },
        "id": "_1WhvxfOnxkw",
        "outputId": "4dd82ba5-f434-4177-94ac-21a0d25b405f"
      },
      "execution_count": 30,
      "outputs": [
        {
          "output_type": "stream",
          "name": "stdout",
          "text": [
            "Average Accuracy: 0.9806862288464524\n"
          ]
        }
      ]
    },
    {
      "cell_type": "code",
      "source": [
        "#8. Train Logistic Regression and Evaluate Using Precision, Recall, and F1-Score\n",
        "\n",
        "from sklearn.metrics import precision_score, recall_score, f1_score\n",
        "\n",
        "print(\"Precision:\", precision_score(y_test, y_pred))\n",
        "print(\"Recall:\", recall_score(y_test, y_pred))\n",
        "print(\"F1-Score:\", f1_score(y_test, y_pred))"
      ],
      "metadata": {
        "colab": {
          "base_uri": "https://localhost:8080/"
        },
        "id": "21LTYsrQoaQE",
        "outputId": "3d4f2dfd-187b-4091-98a8-e5b7d0ee9c08"
      },
      "execution_count": 31,
      "outputs": [
        {
          "output_type": "stream",
          "name": "stdout",
          "text": [
            "Precision: 0.9333333333333333\n",
            "Recall: 0.9859154929577465\n",
            "F1-Score: 0.958904109589041\n"
          ]
        }
      ]
    },
    {
      "cell_type": "code",
      "source": [
        "#9. Train Logistic Regression on Imbalanced Data with Class Weights\n",
        "\n",
        "from sklearn.preprocessing import StandardScaler\n",
        "from sklearn.linear_model import LogisticRegression\n",
        "from sklearn.metrics import accuracy_score\n",
        "\n",
        "# Scale the data\n",
        "scaler = StandardScaler()\n",
        "X_train_scaled = scaler.fit_transform(X_train)\n",
        "X_test_scaled = scaler.transform(X_test)\n",
        "\n",
        "# Train Logistic Regression with class_weight='balanced'\n",
        "model = LogisticRegression(class_weight='balanced', max_iter=5000)\n",
        "model.fit(X_train_scaled, y_train)\n",
        "\n",
        "# Make predictions\n",
        "y_pred = model.predict(X_test_scaled)\n",
        "print(\"Balanced Model Accuracy:\", accuracy_score(y_test, y_pred))"
      ],
      "metadata": {
        "colab": {
          "base_uri": "https://localhost:8080/"
        },
        "id": "uK_bFOpUozTx",
        "outputId": "2f9fdc7b-eb79-43b6-8d83-58d5f946a294"
      },
      "execution_count": 32,
      "outputs": [
        {
          "output_type": "stream",
          "name": "stdout",
          "text": [
            "Balanced Model Accuracy: 0.9824561403508771\n"
          ]
        }
      ]
    },
    {
      "cell_type": "code",
      "source": [
        "#10. Train Logistic Regression on Titanic Dataset Handling Missing Values\n",
        "\n",
        "import pandas as pd\n",
        "from sklearn.model_selection import train_test_split\n",
        "from sklearn.preprocessing import StandardScaler, LabelEncoder\n",
        "from sklearn.linear_model import LogisticRegression\n",
        "from sklearn.metrics import accuracy_score\n",
        "\n",
        "path = '/content/tested.csv'\n",
        "df = pd.read_csv(path)\n",
        "\n",
        "# Drop irrelevant columns\n",
        "df.drop(['PassengerId', 'Name', 'Ticket', 'Cabin'], axis=1, inplace=True)\n",
        "\n",
        "# Encode categorical variables ('Sex' and 'Embarked')\n",
        "df['Sex'] = df['Sex'].map({'male': 0, 'female': 1})  # Convert 'Sex' to numeric\n",
        "df['Embarked'].fillna(df['Embarked'].mode()[0], inplace=True)  # Fill missing values in 'Embarked'\n",
        "df['Embarked'] = LabelEncoder().fit_transform(df['Embarked'])  # Encode 'Embarked'\n",
        "\n",
        "# Fill missing values with column mean\n",
        "df.fillna(df.mean(), inplace=True)\n",
        "\n",
        "# Define features (X) and target (y)\n",
        "X = df.drop(columns=['Survived'])  # Features\n",
        "y = df['Survived']  # Target\n",
        "\n",
        "# Split dataset into training and testing sets (80% train, 20% test)\n",
        "X_train, X_test, y_train, y_test = train_test_split(X, y, test_size=0.2, random_state=42)\n",
        "\n",
        "# Scale the data\n",
        "scaler = StandardScaler()\n",
        "X_train_scaled = scaler.fit_transform(X_train)\n",
        "X_test_scaled = scaler.transform(X_test)\n",
        "\n",
        "# Train Logistic Regression with increased max_iter\n",
        "model = LogisticRegression(max_iter=5000)  # Increased iterations\n",
        "model.fit(X_train_scaled, y_train)\n",
        "\n",
        "# Make predictions\n",
        "y_pred = model.predict(X_test_scaled)\n",
        "\n",
        "# Evaluate model accuracy\n",
        "print(\"Model Accuracy After Handling Missing Values:\", accuracy_score(y_test, y_pred))"
      ],
      "metadata": {
        "colab": {
          "base_uri": "https://localhost:8080/"
        },
        "id": "CRTMIBFFo-H-",
        "outputId": "f6658bec-7bf5-4b2c-b830-ad3d9204dd6d"
      },
      "execution_count": 35,
      "outputs": [
        {
          "output_type": "stream",
          "name": "stdout",
          "text": [
            "Model Accuracy After Handling Missing Values: 1.0\n"
          ]
        },
        {
          "output_type": "stream",
          "name": "stderr",
          "text": [
            "<ipython-input-35-20d104d8115d>:18: FutureWarning: A value is trying to be set on a copy of a DataFrame or Series through chained assignment using an inplace method.\n",
            "The behavior will change in pandas 3.0. This inplace method will never work because the intermediate object on which we are setting values always behaves as a copy.\n",
            "\n",
            "For example, when doing 'df[col].method(value, inplace=True)', try using 'df.method({col: value}, inplace=True)' or df[col] = df[col].method(value) instead, to perform the operation inplace on the original object.\n",
            "\n",
            "\n",
            "  df['Embarked'].fillna(df['Embarked'].mode()[0], inplace=True)  # Fill missing values in 'Embarked'\n"
          ]
        }
      ]
    },
    {
      "cell_type": "code",
      "source": [
        "#11. Apply Feature Scaling Before Training\n",
        "\n",
        "from sklearn.preprocessing import StandardScaler\n",
        "\n",
        "scaler = StandardScaler()\n",
        "X_train_scaled = scaler.fit_transform(X_train)\n",
        "X_test_scaled = scaler.transform(X_test)\n",
        "\n",
        "model = LogisticRegression()\n",
        "model.fit(X_train_scaled, y_train)\n",
        "print(\"Scaled Model Accuracy:\", accuracy_score(y_test, model.predict(X_test_scaled)))"
      ],
      "metadata": {
        "colab": {
          "base_uri": "https://localhost:8080/"
        },
        "id": "GqlFNdSypDLJ",
        "outputId": "63da48e3-969b-4f6d-d314-f8c92cb2dd17"
      },
      "execution_count": 36,
      "outputs": [
        {
          "output_type": "stream",
          "name": "stdout",
          "text": [
            "Scaled Model Accuracy: 1.0\n"
          ]
        }
      ]
    },
    {
      "cell_type": "code",
      "source": [
        "#12. Train Logistic Regression and Evaluate Using ROC-AUC Score\n",
        "\n",
        "from sklearn.metrics import roc_auc_score\n",
        "\n",
        "y_proba = model.predict_proba(X_test)[:, 1]\n",
        "print(\"ROC-AUC Score:\", roc_auc_score(y_test, y_proba))"
      ],
      "metadata": {
        "colab": {
          "base_uri": "https://localhost:8080/"
        },
        "id": "sykWBDcspuD-",
        "outputId": "721c8f3c-3394-4361-bf9e-1015dbced32e"
      },
      "execution_count": 37,
      "outputs": [
        {
          "output_type": "stream",
          "name": "stdout",
          "text": [
            "ROC-AUC Score: 0.9417647058823528\n"
          ]
        },
        {
          "output_type": "stream",
          "name": "stderr",
          "text": [
            "/usr/local/lib/python3.11/dist-packages/sklearn/utils/validation.py:2732: UserWarning: X has feature names, but LogisticRegression was fitted without feature names\n",
            "  warnings.warn(\n"
          ]
        }
      ]
    },
    {
      "cell_type": "code",
      "source": [
        "#13. Train Logistic Regression Using a Custom Learning Rate (C=0.5)\n",
        "\n",
        "model = LogisticRegression(C=0.5)\n",
        "model.fit(X_train, y_train)\n",
        "print(\"Custom C Model Accuracy:\", accuracy_score(y_test, model.predict(X_test)))"
      ],
      "metadata": {
        "colab": {
          "base_uri": "https://localhost:8080/"
        },
        "id": "AvjoogWWswjk",
        "outputId": "693bd013-1f68-4709-8cca-c777ddf7c88f"
      },
      "execution_count": 40,
      "outputs": [
        {
          "output_type": "stream",
          "name": "stdout",
          "text": [
            "Custom C Model Accuracy: 1.0\n"
          ]
        },
        {
          "output_type": "stream",
          "name": "stderr",
          "text": [
            "/usr/local/lib/python3.11/dist-packages/sklearn/linear_model/_logistic.py:465: ConvergenceWarning: lbfgs failed to converge (status=1):\n",
            "STOP: TOTAL NO. of ITERATIONS REACHED LIMIT.\n",
            "\n",
            "Increase the number of iterations (max_iter) or scale the data as shown in:\n",
            "    https://scikit-learn.org/stable/modules/preprocessing.html\n",
            "Please also refer to the documentation for alternative solver options:\n",
            "    https://scikit-learn.org/stable/modules/linear_model.html#logistic-regression\n",
            "  n_iter_i = _check_optimize_result(\n"
          ]
        }
      ]
    },
    {
      "cell_type": "code",
      "source": [
        "#14. Identify Important Features Based on Model Coefficients\n",
        "\n",
        "feature_importance = pd.Series(model.coef_[0], index=X.columns)\n",
        "print(feature_importance.sort_values(ascending=False))"
      ],
      "metadata": {
        "colab": {
          "base_uri": "https://localhost:8080/"
        },
        "id": "QczJWOiDs0WR",
        "outputId": "b0f4017b-130e-4ea9-dba0-dd190b5145fd"
      },
      "execution_count": 41,
      "outputs": [
        {
          "output_type": "stream",
          "name": "stdout",
          "text": [
            "Sex         5.239369\n",
            "Parch       0.069606\n",
            "SibSp       0.058123\n",
            "Fare        0.002764\n",
            "Age        -0.001833\n",
            "Embarked   -0.064236\n",
            "Pclass     -0.065746\n",
            "dtype: float64\n"
          ]
        }
      ]
    },
    {
      "cell_type": "code",
      "source": [
        "#15. Evaluate Performance Using Cohen’s Kappa Score\n",
        "\n",
        "from sklearn.metrics import cohen_kappa_score\n",
        "\n",
        "print(\"Cohen's Kappa Score:\", cohen_kappa_score(y_test, y_pred))"
      ],
      "metadata": {
        "colab": {
          "base_uri": "https://localhost:8080/"
        },
        "id": "k1Ie8N49tKAX",
        "outputId": "09516e20-7e65-46a4-9a35-7c050d5fc226"
      },
      "execution_count": 42,
      "outputs": [
        {
          "output_type": "stream",
          "name": "stdout",
          "text": [
            "Cohen's Kappa Score: 1.0\n"
          ]
        }
      ]
    },
    {
      "cell_type": "code",
      "source": [
        "#16. Visualize Precision-Recall Curve\n",
        "\n",
        "import matplotlib.pyplot as plt\n",
        "from sklearn.metrics import precision_recall_curve\n",
        "\n",
        "precision, recall, _ = precision_recall_curve(y_test, y_proba)\n",
        "plt.plot(recall, precision)\n",
        "plt.xlabel(\"Recall\")\n",
        "plt.ylabel(\"Precision\")\n",
        "plt.title(\"Precision-Recall Curve\")\n",
        "plt.show()"
      ],
      "metadata": {
        "colab": {
          "base_uri": "https://localhost:8080/",
          "height": 472
        },
        "id": "HVlrkYfetOAJ",
        "outputId": "ee16b632-d028-466a-8217-37d2a15f7f09"
      },
      "execution_count": 43,
      "outputs": [
        {
          "output_type": "display_data",
          "data": {
            "text/plain": [
              "<Figure size 640x480 with 1 Axes>"
            ],
            "image/png": "[encoded data removed]"
          },
          "metadata": {}
        }
      ]
    },
    {
      "cell_type": "code",
      "source": [
        "#17. Train Logistic Regression with Different Solvers and Compare Accuracy\n",
        "\n",
        "solvers = ['liblinear', 'lbfgs', 'saga']\n",
        "\n",
        "for solver in solvers:\n",
        "    model = LogisticRegression(solver=solver)\n",
        "    model.fit(X_train, y_train)\n",
        "    print(f\"Solver {solver} Accuracy:\", accuracy_score(y_test, model.predict(X_test)))"
      ],
      "metadata": {
        "colab": {
          "base_uri": "https://localhost:8080/"
        },
        "id": "FJyV4F1ztR8-",
        "outputId": "0834094f-cde0-449b-938b-fa47e589f117"
      },
      "execution_count": 44,
      "outputs": [
        {
          "output_type": "stream",
          "name": "stdout",
          "text": [
            "Solver liblinear Accuracy: 1.0\n",
            "Solver lbfgs Accuracy: 1.0\n",
            "Solver saga Accuracy: 0.6309523809523809\n"
          ]
        },
        {
          "output_type": "stream",
          "name": "stderr",
          "text": [
            "/usr/local/lib/python3.11/dist-packages/sklearn/linear_model/_logistic.py:465: ConvergenceWarning: lbfgs failed to converge (status=1):\n",
            "STOP: TOTAL NO. of ITERATIONS REACHED LIMIT.\n",
            "\n",
            "Increase the number of iterations (max_iter) or scale the data as shown in:\n",
            "    https://scikit-learn.org/stable/modules/preprocessing.html\n",
            "Please also refer to the documentation for alternative solver options:\n",
            "    https://scikit-learn.org/stable/modules/linear_model.html#logistic-regression\n",
            "  n_iter_i = _check_optimize_result(\n",
            "/usr/local/lib/python3.11/dist-packages/sklearn/linear_model/_sag.py:348: ConvergenceWarning: The max_iter was reached which means the coef_ did not converge\n",
            "  warnings.warn(\n"
          ]
        }
      ]
    },
    {
      "cell_type": "code",
      "source": [
        "#18. Evaluate Performance Using Matthews Correlation Coefficient (MCC)\n",
        "\n",
        "from sklearn.metrics import matthews_corrcoef\n",
        "\n",
        "print(\"MCC Score:\", matthews_corrcoef(y_test, y_pred))"
      ],
      "metadata": {
        "colab": {
          "base_uri": "https://localhost:8080/"
        },
        "id": "6cMo49yQtWBh",
        "outputId": "abcd7807-b11d-4ea3-a596-05db1dea12dd"
      },
      "execution_count": 45,
      "outputs": [
        {
          "output_type": "stream",
          "name": "stdout",
          "text": [
            "MCC Score: 1.0\n"
          ]
        }
      ]
    },
    {
      "cell_type": "code",
      "source": [
        "#19. Compare Accuracy of Raw vs. Standardized Data\n",
        "\n",
        "print(\"Accuracy with Scaling:\", accuracy_score(y_test, model.predict(X_test_scaled)))"
      ],
      "metadata": {
        "colab": {
          "base_uri": "https://localhost:8080/"
        },
        "id": "PCjruqpwtaCe",
        "outputId": "5edd3f08-e8e3-4626-92f4-465cc0b70e72"
      },
      "execution_count": 46,
      "outputs": [
        {
          "output_type": "stream",
          "name": "stdout",
          "text": [
            "Accuracy with Scaling: 0.9761904761904762\n"
          ]
        },
        {
          "output_type": "stream",
          "name": "stderr",
          "text": [
            "/usr/local/lib/python3.11/dist-packages/sklearn/utils/validation.py:2739: UserWarning: X does not have valid feature names, but LogisticRegression was fitted with feature names\n",
            "  warnings.warn(\n"
          ]
        }
      ]
    },
    {
      "cell_type": "code",
      "source": [
        "#20. Find Optimal C (Regularization Strength) Using Cross-Validation\n",
        "\n",
        "best_c = grid.best_params_['C']\n",
        "print(\"Best Regularization Strength:\", best_c)"
      ],
      "metadata": {
        "colab": {
          "base_uri": "https://localhost:8080/"
        },
        "id": "8GGzrjFMtdVs",
        "outputId": "28ed9617-32d3-475c-888f-9034fff3bea3"
      },
      "execution_count": 47,
      "outputs": [
        {
          "output_type": "stream",
          "name": "stdout",
          "text": [
            "Best Regularization Strength: 10\n"
          ]
        }
      ]
    },
    {
      "cell_type": "code",
      "source": [
        "#21. Train Logistic Regression Model and Visualize the Confusion Matrix\n",
        "\n",
        "import seaborn as sns\n",
        "from sklearn.metrics import confusion_matrix\n",
        "\n",
        "cm = confusion_matrix(y_test, y_pred)\n",
        "sns.heatmap(cm, annot=True, fmt=\"d\", cmap=\"Blues\")\n",
        "plt.xlabel(\"Predicted\")\n",
        "plt.ylabel(\"Actual\")\n",
        "plt.show()"
      ],
      "metadata": {
        "colab": {
          "base_uri": "https://localhost:8080/",
          "height": 455
        },
        "id": "Qd8YdYoQthv6",
        "outputId": "dcb8a07d-dd3e-4c5b-e525-618f33682233"
      },
      "execution_count": 48,
      "outputs": [
        {
          "output_type": "display_data",
          "data": {
            "text/plain": [
              "<Figure size 640x480 with 2 Axes>"
            ],
            "image/png": "[encoded data removed]"
          },
          "metadata": {}
        }
      ]
    },
    {
      "cell_type": "code",
      "source": [
        "#22. Train Logistic Regression with One-vs-One (OvO) Multiclass Classification\n",
        "\n",
        "from sklearn.linear_model import LogisticRegression\n",
        "from sklearn.multiclass import OneVsOneClassifier\n",
        "from sklearn.metrics import accuracy_score\n",
        "\n",
        "# Create OneVsOne classifier with Logistic Regression\n",
        "model = OneVsOneClassifier(LogisticRegression(max_iter=5000))  # Increased iterations\n",
        "model.fit(X_train, y_train)\n",
        "\n",
        "# Evaluate accuracy\n",
        "print(\"OvO Model Accuracy:\", accuracy_score(y_test, model.predict(X_test)))"
      ],
      "metadata": {
        "colab": {
          "base_uri": "https://localhost:8080/"
        },
        "id": "yLVGxLBOtlvT",
        "outputId": "1e211259-ebb5-4735-c01a-7b832556d48f"
      },
      "execution_count": 50,
      "outputs": [
        {
          "output_type": "stream",
          "name": "stdout",
          "text": [
            "OvO Model Accuracy: 1.0\n"
          ]
        }
      ]
    },
    {
      "cell_type": "code",
      "source": [
        "#23. Save and Load Trained Model Using Joblib\n",
        "\n",
        "import joblib\n",
        "\n",
        "joblib.dump(model, \"logistic_model.pkl\")\n",
        "loaded_model = joblib.load(\"logistic_model.pkl\")\n",
        "print(\"Loaded Model Accuracy:\", accuracy_score(y_test, loaded_model.predict(X_test)))"
      ],
      "metadata": {
        "colab": {
          "base_uri": "https://localhost:8080/"
        },
        "id": "Htmrrg0VtqxU",
        "outputId": "baa5d34b-c805-4cc9-cc77-b61cb1cabbbb"
      },
      "execution_count": 51,
      "outputs": [
        {
          "output_type": "stream",
          "name": "stdout",
          "text": [
            "Loaded Model Accuracy: 1.0\n"
          ]
        }
      ]
    },
    {
      "cell_type": "code",
      "source": [
        "#24. Save & Load Model Using Joblib\n",
        "\n",
        "import joblib\n",
        "from sklearn.linear_model import LogisticRegression\n",
        "from sklearn.model_selection import train_test_split\n",
        "from sklearn.metrics import accuracy_score\n",
        "from sklearn.datasets import load_breast_cancer\n",
        "\n",
        "# Load dataset\n",
        "data = load_breast_cancer()\n",
        "X, y = data.data, data.target\n",
        "\n",
        "# Split data\n",
        "X_train, X_test, y_train, y_test = train_test_split(X, y, test_size=0.2, random_state=42)\n",
        "\n",
        "# Train Logistic Regression model\n",
        "model = LogisticRegression(max_iter=5000)\n",
        "model.fit(X_train, y_train)\n",
        "\n",
        "# Save model using joblib\n",
        "joblib.dump(model, \"logistic_regression_model.pkl\")\n",
        "\n",
        "# Load model again\n",
        "loaded_model = joblib.load(\"logistic_regression_model.pkl\")\n",
        "\n",
        "# Make predictions\n",
        "y_pred = loaded_model.predict(X_test)\n",
        "print(\"Accuracy after loading model:\", accuracy_score(y_test, y_pred))"
      ],
      "metadata": {
        "colab": {
          "base_uri": "https://localhost:8080/"
        },
        "id": "_BT0zy24uD6_",
        "outputId": "7a1d3ea9-b22c-41c7-9356-6550d6d552df"
      },
      "execution_count": 52,
      "outputs": [
        {
          "output_type": "stream",
          "name": "stdout",
          "text": [
            "Accuracy after loading model: 0.956140350877193\n"
          ]
        }
      ]
    },
    {
      "cell_type": "code",
      "source": [
        "#25. Find Optimal C (Regularization Strength) Using Cross-Validation\n",
        "\n",
        "from sklearn.model_selection import cross_val_score\n",
        "import numpy as np\n",
        "from sklearn.preprocessing import StandardScaler\n",
        "\n",
        "# Standardize the data\n",
        "scaler = StandardScaler()\n",
        "X_scaled = scaler.fit_transform(X)  # Apply to full dataset\n",
        "\n",
        "# Define range of C values to test\n",
        "C_values = [0.001, 0.01, 0.1, 1, 10, 100]\n",
        "best_C = None\n",
        "best_score = 0\n",
        "\n",
        "# Try different C values and evaluate performance\n",
        "for C in C_values:\n",
        "    model = LogisticRegression(C=C, max_iter=10000, solver='saga')  # Increased max_iter & changed solver\n",
        "    scores = cross_val_score(model, X_scaled, y, cv=5)  # 5-fold cross-validation\n",
        "    avg_score = np.mean(scores)\n",
        "\n",
        "    print(f\"C={C}, Avg Accuracy: {avg_score:.4f}\")\n",
        "\n",
        "    if avg_score > best_score:\n",
        "        best_score = avg_score\n",
        "        best_C = C\n",
        "\n",
        "print(f\"Best C: {best_C} with Accuracy: {best_score:.4f}\")"
      ],
      "metadata": {
        "colab": {
          "base_uri": "https://localhost:8080/"
        },
        "id": "mT0QVYH6u30K",
        "outputId": "baf94825-0f9a-4fa3-c049-8b88801d2c55"
      },
      "execution_count": 54,
      "outputs": [
        {
          "output_type": "stream",
          "name": "stdout",
          "text": [
            "C=0.001, Avg Accuracy: 0.8929\n",
            "C=0.01, Avg Accuracy: 0.9491\n",
            "C=0.1, Avg Accuracy: 0.9754\n",
            "C=1, Avg Accuracy: 0.9789\n",
            "C=10, Avg Accuracy: 0.9702\n",
            "C=100, Avg Accuracy: 0.9649\n",
            "Best C: 1 with Accuracy: 0.9789\n"
          ]
        }
      ]
    }
  ]
}